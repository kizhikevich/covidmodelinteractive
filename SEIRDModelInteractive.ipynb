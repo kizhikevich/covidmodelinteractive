{
 "cells": [
  {
   "cell_type": "code",
   "execution_count": 1,
   "metadata": {},
   "outputs": [],
   "source": [
    "import numpy as np\n",
    "import matplotlib.pyplot as plt\n",
    "from scipy.integrate import odeint\n",
    "from ipywidgets.widgets import interact,IntSlider,FloatSlider"
   ]
  },
  {
   "cell_type": "code",
   "execution_count": 2,
   "metadata": {},
   "outputs": [],
   "source": [
    "N=10000\n",
    "initI=1\n",
    "initE=1\n",
    "initR=0\n",
    "initD=0\n",
    "initS=N-initI-initR-initE-initD\n",
    "gamma=1./10\n",
    "beta=4*gamma\n",
    "sigma=1/5.2\n",
    "mu=0.034\n",
    "t=150"
   ]
  },
  {
   "cell_type": "code",
   "execution_count": 3,
   "metadata": {},
   "outputs": [],
   "source": [
    "def diffE(y,t,N,beta,gamma,sigma,mu):\n",
    "    S,E,I,R,D=y\n",
    "    N=S+E+I+R+D\n",
    "    DS=-beta*S*I/N\n",
    "    DE=beta*S*I/N-sigma*E\n",
    "    DI=sigma*E-gamma*I-mu*I\n",
    "    DR=gamma*I\n",
    "    DD=mu*I\n",
    "    return DS,DE,DI,DR,DD"
   ]
  },
  {
   "cell_type": "code",
   "execution_count": 4,
   "metadata": {},
   "outputs": [],
   "source": [
    "def main(initS,initE,initI,initR,initD,N,beta,gamma,sigma,mu,t):\n",
    "    y0=initS,initE,initI,initR,initD\n",
    "    tspan=np.arange(0,t,1)\n",
    "    sol=odeint(diffE,y0,tspan,args=(N,beta,gamma,sigma,mu))\n",
    "    S,E,I,R,D=sol.T\n",
    "    fig=plt.figure()\n",
    "    ax=fig.add_subplot()\n",
    "    ax.plot(tspan,S/10000,'r',alpha=0.5,label='Susceptible')\n",
    "    ax.plot(tspan,E/10000,'p',alpha=0.5,label='Exposed')\n",
    "    ax.plot(tspan,I/10000,'b',alpha=0.5,label='Infected')\n",
    "    ax.plot(tspan,R/10000,'g',alpha=0.5,label='Recovered')\n",
    "    ax.plot(tspan,D/10000,'black',alpha=0.5,label='Dead')\n",
    "    plt.xlabel(\"time\")\n",
    "    legend=ax.legend()\n",
    "    plt.grid()\n",
    "    plt.title(\"SEIRD Simulation\")\n",
    "    plt.show()"
   ]
  },
  {
   "cell_type": "code",
   "execution_count": 9,
   "metadata": {},
   "outputs": [
    {
     "data": {
      "application/vnd.jupyter.widget-view+json": {
       "model_id": "a2886fadb6df4c9c8916c12fb5bfda57",
       "version_major": 2,
       "version_minor": 0
      },
      "text/plain": [
       "interactive(children=(IntSlider(value=1000, description='initial S', max=1000, step=10, style=SliderStyle(desc…"
      ]
     },
     "metadata": {},
     "output_type": "display_data"
    },
    {
     "data": {
      "text/plain": [
       "<function __main__.main(initS, initE, initI, initR, initD, N, beta, gamma, sigma, mu, t)>"
      ]
     },
     "execution_count": 9,
     "metadata": {},
     "output_type": "execute_result"
    }
   ],
   "source": [
    "style={'description_width':'100px'}\n",
    "interact(main,\n",
    "         initS=IntSlider(min=0,max=1000,step=10,value=initS,description='initial S',style=style),\n",
    "         initE=IntSlider(min=0,max=1000,step=1,value=initE,description='initial E',style=style),\n",
    "         initI=IntSlider(min=0,max=1000,step=10,value=initI,description='initial I',style=style),\n",
    "         initR=IntSlider(min=0,max=1000,step=10,value=initR,description='initial R',style=style),\n",
    "         initD=IntSlider(min=0,max=1000,step=10,value=initD,description='initial D',style=style),\n",
    "         N=IntSlider(min=0,max=100000,step=1000,value=N,description='initial N',style=style),\n",
    "         beta=FloatSlider(min=0,max=4,step=0.01,value=beta,description='Rate infection',style=style),\n",
    "         gamma=FloatSlider(min=0,max=4,step=0.01,value=gamma,description='Rate recovery',style=style),\n",
    "         sigma=FloatSlider(min=0,max=4,step=0.01,value=sigma,description='Incubation rate',style=style),\n",
    "         mu=FloatSlider(min=0,max=1,step=0.01,value=mu,description='Mortality rate',style=style),\n",
    "         t=IntSlider(min=1,max=600,step=7,value=t,description='Days',style=style),\n",
    "        )"
   ]
  },
  {
   "cell_type": "code",
   "execution_count": null,
   "metadata": {},
   "outputs": [],
   "source": []
  }
 ],
 "metadata": {
  "kernelspec": {
   "display_name": "Python 3",
   "language": "python",
   "name": "python3"
  },
  "language_info": {
   "codemirror_mode": {
    "name": "ipython",
    "version": 3
   },
   "file_extension": ".py",
   "mimetype": "text/x-python",
   "name": "python",
   "nbconvert_exporter": "python",
   "pygments_lexer": "ipython3",
   "version": "3.8.3"
  }
 },
 "nbformat": 4,
 "nbformat_minor": 4
}
